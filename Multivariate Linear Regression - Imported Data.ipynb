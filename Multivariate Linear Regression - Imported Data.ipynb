{
 "cells": [
  {
   "cell_type": "markdown",
   "metadata": {},
   "source": [
    "# Lab Statement\n",
    "This lab continues the examination of multivariate relationships in a data set. However, this time around the dataset is imported from the UCI Datasets Website instead of being randomly generated. This opens up the opportunity for a more \"real-world application\" since there are more attributes, a target vector, and a large dataset. Just like the previous lab, the analysis will be done by using Linear Regression Data Analysis and SciKitLearn."
   ]
  },
  {
   "cell_type": "markdown",
   "metadata": {},
   "source": [
    "# Objectives:\n",
    "- Create and use Machine Learning Models with SciKitLearn\n",
    "- Learn more advances NumPy (Numerical Python) Features\n",
    "- Learn how to import data from remote webistes (UCI Datasets)\n",
    "- Learn how to import and use SciKitLearn built-in datasets (Diabetes Dataset)\n",
    "- Perform Multiple Regression Analysis with SciKitLearn\n",
    "- Train - Test Split of the data with SciKitLearn\n",
    "- Create Predictive Models\n",
    "- Perform 3D Plotting with MatPlotLib\n",
    "- Perform Model Evaluation\n",
    "    - Model Score and Accuracy"
   ]
  },
  {
   "cell_type": "markdown",
   "metadata": {},
   "source": [
    "# Introduction\n",
    "Previously, we transitioned from a Simple Linear Regression Model with only *one* predictor to a Multiple Linear Regression Model with *two or more* predictors. This approach fitted a 2D surface (sheet) to a dataset that was generated in-house using the SciKitLearn dataset generator. Because of the potentially large amount of predictors, it's more efficient to use matrices to establish the regression model and analyses in Multiple Linear Regression Model settings. Essentially, the **Linear Regression** method of SciKitLearn was used to train the model with the data, taking into account a best fit. The result was that it gave a prediction from the data, and tested it using other data to see how well it fit into the model it created. We'll continue this analysis with data that is imported from online in this lab."
   ]
  },
  {
   "cell_type": "markdown",
   "metadata": {},
   "source": [
    "# Data and Problem Description\n",
    "To create this dataset, 10 baseline variables were obtained from each diabetes patient in a sample size of **n = 442** patients. Also, the *response of interest* was recorded, which is a quantitative measure of the progression of diabetes in the patient after one year after the inital data was collected.\n",
    "\n",
    "### ***Dataset Characteristics:***\n",
    "- **Number of Instances (Sample Size):** 442\n",
    "- **Number of Attributes:** 10 Columns; each column is a Numeric Predictive Value\n",
    "- **Target of Interest:** Column 11 (Y) - The Response of Interest\n",
    "- **Attributes:**\n",
    "    - Age (Years)\n",
    "    - Sex\n",
    "    - Body Mass Index (BMI)\n",
    "    - Average Blood Pressure\n",
    "    - S1 (Blood Serum 1)\n",
    "    - S2 (Blood Serum 2)\n",
    "    - S3 (Blood Serum 3)\n",
    "    - S4 (Blood Serum 4)\n",
    "    - S5 (Blood Serum 5)\n",
    "    - S6 (Blood Serum 6)\n",
    "    \n",
    "**Note:** Each of the Attributes have been ***mean centered and scaled*** by **multiplying the standard deviation by  n_samples**\n",
    "\n",
    "**Source URL:** http://www4.stat.ncsu.edu/~boos/var.select/diabetes.html"
   ]
  },
  {
   "cell_type": "markdown",
   "metadata": {},
   "source": [
    "# Loading the Diabetes Dataset from the Web\n",
    "We can load the Diabetes Dataset directly into Pandas from the web; however, the values aren't normalized as mentioned above. This lack of normalization of values in the Feature Matrix can lead to errors when training models (which happens often)."
   ]
  },
  {
   "cell_type": "code",
   "execution_count": 1,
   "metadata": {},
   "outputs": [
    {
     "data": {
      "text/html": [
       "<div>\n",
       "<style scoped>\n",
       "    .dataframe tbody tr th:only-of-type {\n",
       "        vertical-align: middle;\n",
       "    }\n",
       "\n",
       "    .dataframe tbody tr th {\n",
       "        vertical-align: top;\n",
       "    }\n",
       "\n",
       "    .dataframe thead th {\n",
       "        text-align: right;\n",
       "    }\n",
       "</style>\n",
       "<table border=\"1\" class=\"dataframe\">\n",
       "  <thead>\n",
       "    <tr style=\"text-align: right;\">\n",
       "      <th></th>\n",
       "      <th>AGE</th>\n",
       "      <th>SEX</th>\n",
       "      <th>BMI</th>\n",
       "      <th>BP</th>\n",
       "      <th>S1</th>\n",
       "      <th>S2</th>\n",
       "      <th>S3</th>\n",
       "      <th>S4</th>\n",
       "      <th>S5</th>\n",
       "      <th>S6</th>\n",
       "      <th>Y</th>\n",
       "    </tr>\n",
       "  </thead>\n",
       "  <tbody>\n",
       "    <tr>\n",
       "      <th>437</th>\n",
       "      <td>60</td>\n",
       "      <td>2</td>\n",
       "      <td>28.2</td>\n",
       "      <td>112.00</td>\n",
       "      <td>185</td>\n",
       "      <td>113.8</td>\n",
       "      <td>42.0</td>\n",
       "      <td>4.00</td>\n",
       "      <td>4.9836</td>\n",
       "      <td>93</td>\n",
       "      <td>178</td>\n",
       "    </tr>\n",
       "    <tr>\n",
       "      <th>438</th>\n",
       "      <td>47</td>\n",
       "      <td>2</td>\n",
       "      <td>24.9</td>\n",
       "      <td>75.00</td>\n",
       "      <td>225</td>\n",
       "      <td>166.0</td>\n",
       "      <td>42.0</td>\n",
       "      <td>5.00</td>\n",
       "      <td>4.4427</td>\n",
       "      <td>102</td>\n",
       "      <td>104</td>\n",
       "    </tr>\n",
       "    <tr>\n",
       "      <th>439</th>\n",
       "      <td>60</td>\n",
       "      <td>2</td>\n",
       "      <td>24.9</td>\n",
       "      <td>99.67</td>\n",
       "      <td>162</td>\n",
       "      <td>106.6</td>\n",
       "      <td>43.0</td>\n",
       "      <td>3.77</td>\n",
       "      <td>4.1271</td>\n",
       "      <td>95</td>\n",
       "      <td>132</td>\n",
       "    </tr>\n",
       "    <tr>\n",
       "      <th>440</th>\n",
       "      <td>36</td>\n",
       "      <td>1</td>\n",
       "      <td>30.0</td>\n",
       "      <td>95.00</td>\n",
       "      <td>201</td>\n",
       "      <td>125.2</td>\n",
       "      <td>42.0</td>\n",
       "      <td>4.79</td>\n",
       "      <td>5.1299</td>\n",
       "      <td>85</td>\n",
       "      <td>220</td>\n",
       "    </tr>\n",
       "    <tr>\n",
       "      <th>441</th>\n",
       "      <td>36</td>\n",
       "      <td>1</td>\n",
       "      <td>19.6</td>\n",
       "      <td>71.00</td>\n",
       "      <td>250</td>\n",
       "      <td>133.2</td>\n",
       "      <td>97.0</td>\n",
       "      <td>3.00</td>\n",
       "      <td>4.5951</td>\n",
       "      <td>92</td>\n",
       "      <td>57</td>\n",
       "    </tr>\n",
       "  </tbody>\n",
       "</table>\n",
       "</div>"
      ],
      "text/plain": [
       "     AGE  SEX   BMI      BP   S1     S2    S3    S4      S5   S6    Y\n",
       "437   60    2  28.2  112.00  185  113.8  42.0  4.00  4.9836   93  178\n",
       "438   47    2  24.9   75.00  225  166.0  42.0  5.00  4.4427  102  104\n",
       "439   60    2  24.9   99.67  162  106.6  43.0  3.77  4.1271   95  132\n",
       "440   36    1  30.0   95.00  201  125.2  42.0  4.79  5.1299   85  220\n",
       "441   36    1  19.6   71.00  250  133.2  97.0  3.00  4.5951   92   57"
      ]
     },
     "execution_count": 1,
     "metadata": {},
     "output_type": "execute_result"
    }
   ],
   "source": [
    "#Import the Pandas Dataset into the Notebook\n",
    "import pandas as pd\n",
    "\n",
    "#Import the Diabetes Dataset from the Internet\n",
    "df = pd.read_csv(\"http://www4.stat.ncsu.edu/~boos/var.select/diabetes.tab.txt\", encoding = 'utf-8', comment = '#', sep = '\\s+')\n",
    "\n",
    "#Show the final 5 rows of data\n",
    "df.tail()"
   ]
  },
  {
   "cell_type": "markdown",
   "metadata": {},
   "source": [
    " *Normalization* of the feature matrix is performed by adjusting the values of **ALL FEATURES** so that they have similar magnitudes. Scaling of the data is essential to make sure that Machine Learning algorithms are using the right data to make their predictions. Therefore, the correct scaling techniques can either **make or break an algorithm**. There are 2 popular methods to do this: **Standardization and Normalization**"
   ]
  },
  {
   "cell_type": "markdown",
   "metadata": {},
   "source": [
    "### Standardization"
   ]
  },
  {
   "cell_type": "markdown",
   "metadata": {},
   "source": [
    "Standardization is when the values from a dataset are centered around the mean with a unit standard deviation. Essentailly, the mean of a certain attribute becomes 0, and the distribution has a unit standard deviation as a result. This method is good to use when the data **DOES** follow a Gaussian distribution. Also, the data doesn't have to have a bounding range, so there can be outliers and they won't be affected.\n",
    "\n",
    "**Source**: https://www.analyticsvidhya.com/blog/2020/04/feature-scaling-machine-learning-normalization-standardization/"
   ]
  },
  {
   "cell_type": "markdown",
   "metadata": {},
   "source": [
    "### Normalization (Min-Max)"
   ]
  },
  {
   "cell_type": "markdown",
   "metadata": {},
   "source": [
    "Normlization is a technique that takes the values from a dataset and shifts and rescales them so they end up ranging between 0 and 1. This technique is good to use when you know that the distribution of the data **DOES NOT** follow a Gaussian distribution. Mainly useful in Machine Learning algorithms that don't assume distribution of data, such as K-Nearest Neighbors and Neural Networks.\n",
    "\n",
    "**Source:** https://www.analyticsvidhya.com/blog/2020/04/feature-scaling-machine-learning-normalization-standardization/"
   ]
  },
  {
   "cell_type": "markdown",
   "metadata": {},
   "source": [
    "# Building the Model in SciKitLearn"
   ]
  },
  {
   "cell_type": "markdown",
   "metadata": {},
   "source": [
    "### Importing the Essentials"
   ]
  },
  {
   "cell_type": "code",
   "execution_count": 2,
   "metadata": {},
   "outputs": [],
   "source": [
    "#Make Graphs Appear within Notebook\n",
    "%matplotlib inline\n",
    "\n",
    "#Importing NumPy\n",
    "import numpy as np\n",
    "\n",
    "#Loading the Diabetes Dataset\n",
    "from sklearn import datasets, linear_model\n",
    "diabetes = datasets.load_diabetes()"
   ]
  },
  {
   "cell_type": "markdown",
   "metadata": {},
   "source": [
    "The Diabetes Dataset is stored as a Python Dictionary, where the keys are the **Value Pairs (\"Target\" and \"Data\")**. The value of the **Target Key** is a *442 x 1 array*, and the value of the **Data Key** is a *442 x 10 array*. "
   ]
  },
  {
   "cell_type": "markdown",
   "metadata": {},
   "source": [
    "### Storing the Feature Matrix (X) and Reponse Vector (y)"
   ]
  },
  {
   "cell_type": "code",
   "execution_count": 3,
   "metadata": {},
   "outputs": [
    {
     "name": "stdout",
     "output_type": "stream",
     "text": [
      "dict_keys(['data', 'target', 'frame', 'DESCR', 'feature_names', 'data_filename', 'target_filename'])\n"
     ]
    }
   ],
   "source": [
    "X = diabetes.data\n",
    "y = diabetes.target\n",
    "print(diabetes.keys())"
   ]
  },
  {
   "cell_type": "markdown",
   "metadata": {},
   "source": [
    "**Features** are known as predictors, inputs, or attributes. The **Response** is known as the target, label, or output."
   ]
  },
  {
   "cell_type": "markdown",
   "metadata": {},
   "source": [
    "### Check the Shapes of the Feature Matrix and Response Vector"
   ]
  },
  {
   "cell_type": "markdown",
   "metadata": {},
   "source": [
    "It's important to check the shape of the data after completing major tasks. In this case, there will be a **lower cap on the Response Vector** because it's a *Column Vector*. "
   ]
  },
  {
   "cell_type": "code",
   "execution_count": 4,
   "metadata": {},
   "outputs": [
    {
     "name": "stdout",
     "output_type": "stream",
     "text": [
      "(442, 10)\n",
      "(442,)\n"
     ]
    }
   ],
   "source": [
    "print(X.shape)\n",
    "print(y.shape)"
   ]
  },
  {
   "cell_type": "markdown",
   "metadata": {},
   "source": [
    "**X.shape** has more data because it *takes into account all the data from the 10 Attribute columns*, while **y.shape** only *focuses on the Target column*."
   ]
  },
  {
   "cell_type": "markdown",
   "metadata": {},
   "source": [
    "# Using Pandas to Its Fullest Potential"
   ]
  },
  {
   "cell_type": "markdown",
   "metadata": {},
   "source": [
    "**Observations** are also known as samples, instances, or records"
   ]
  },
  {
   "cell_type": "markdown",
   "metadata": {},
   "source": [
    "### Examine the First 5 Rows of the Feature Matrix and their Correlation"
   ]
  },
  {
   "cell_type": "code",
   "execution_count": 5,
   "metadata": {},
   "outputs": [
    {
     "data": {
      "text/html": [
       "<div>\n",
       "<style scoped>\n",
       "    .dataframe tbody tr th:only-of-type {\n",
       "        vertical-align: middle;\n",
       "    }\n",
       "\n",
       "    .dataframe tbody tr th {\n",
       "        vertical-align: top;\n",
       "    }\n",
       "\n",
       "    .dataframe thead th {\n",
       "        text-align: right;\n",
       "    }\n",
       "</style>\n",
       "<table border=\"1\" class=\"dataframe\">\n",
       "  <thead>\n",
       "    <tr style=\"text-align: right;\">\n",
       "      <th></th>\n",
       "      <th>Age</th>\n",
       "      <th>Sex</th>\n",
       "      <th>BMI</th>\n",
       "      <th>BP</th>\n",
       "      <th>S1</th>\n",
       "      <th>S2</th>\n",
       "      <th>S3</th>\n",
       "      <th>S4</th>\n",
       "      <th>S5</th>\n",
       "      <th>S6</th>\n",
       "    </tr>\n",
       "  </thead>\n",
       "  <tbody>\n",
       "    <tr>\n",
       "      <th>437</th>\n",
       "      <td>0.041708</td>\n",
       "      <td>0.050680</td>\n",
       "      <td>0.019662</td>\n",
       "      <td>0.059744</td>\n",
       "      <td>-0.005697</td>\n",
       "      <td>-0.002566</td>\n",
       "      <td>-0.028674</td>\n",
       "      <td>-0.002592</td>\n",
       "      <td>0.031193</td>\n",
       "      <td>0.007207</td>\n",
       "    </tr>\n",
       "    <tr>\n",
       "      <th>438</th>\n",
       "      <td>-0.005515</td>\n",
       "      <td>0.050680</td>\n",
       "      <td>-0.015906</td>\n",
       "      <td>-0.067642</td>\n",
       "      <td>0.049341</td>\n",
       "      <td>0.079165</td>\n",
       "      <td>-0.028674</td>\n",
       "      <td>0.034309</td>\n",
       "      <td>-0.018118</td>\n",
       "      <td>0.044485</td>\n",
       "    </tr>\n",
       "    <tr>\n",
       "      <th>439</th>\n",
       "      <td>0.041708</td>\n",
       "      <td>0.050680</td>\n",
       "      <td>-0.015906</td>\n",
       "      <td>0.017282</td>\n",
       "      <td>-0.037344</td>\n",
       "      <td>-0.013840</td>\n",
       "      <td>-0.024993</td>\n",
       "      <td>-0.011080</td>\n",
       "      <td>-0.046879</td>\n",
       "      <td>0.015491</td>\n",
       "    </tr>\n",
       "    <tr>\n",
       "      <th>440</th>\n",
       "      <td>-0.045472</td>\n",
       "      <td>-0.044642</td>\n",
       "      <td>0.039062</td>\n",
       "      <td>0.001215</td>\n",
       "      <td>0.016318</td>\n",
       "      <td>0.015283</td>\n",
       "      <td>-0.028674</td>\n",
       "      <td>0.026560</td>\n",
       "      <td>0.044528</td>\n",
       "      <td>-0.025930</td>\n",
       "    </tr>\n",
       "    <tr>\n",
       "      <th>441</th>\n",
       "      <td>-0.045472</td>\n",
       "      <td>-0.044642</td>\n",
       "      <td>-0.073030</td>\n",
       "      <td>-0.081414</td>\n",
       "      <td>0.083740</td>\n",
       "      <td>0.027809</td>\n",
       "      <td>0.173816</td>\n",
       "      <td>-0.039493</td>\n",
       "      <td>-0.004220</td>\n",
       "      <td>0.003064</td>\n",
       "    </tr>\n",
       "  </tbody>\n",
       "</table>\n",
       "</div>"
      ],
      "text/plain": [
       "          Age       Sex       BMI        BP        S1        S2        S3  \\\n",
       "437  0.041708  0.050680  0.019662  0.059744 -0.005697 -0.002566 -0.028674   \n",
       "438 -0.005515  0.050680 -0.015906 -0.067642  0.049341  0.079165 -0.028674   \n",
       "439  0.041708  0.050680 -0.015906  0.017282 -0.037344 -0.013840 -0.024993   \n",
       "440 -0.045472 -0.044642  0.039062  0.001215  0.016318  0.015283 -0.028674   \n",
       "441 -0.045472 -0.044642 -0.073030 -0.081414  0.083740  0.027809  0.173816   \n",
       "\n",
       "           S4        S5        S6  \n",
       "437 -0.002592  0.031193  0.007207  \n",
       "438  0.034309 -0.018118  0.044485  \n",
       "439 -0.011080 -0.046879  0.015491  \n",
       "440  0.026560  0.044528 -0.025930  \n",
       "441 -0.039493 -0.004220  0.003064  "
      ]
     },
     "execution_count": 5,
     "metadata": {},
     "output_type": "execute_result"
    }
   ],
   "source": [
    "#Examine the First 5 Rows\n",
    "pd.DataFrame(X, columns=['Age', 'Sex', 'BMI', 'BP', 'S1', 'S2', 'S3', 'S4', 'S5', 'S6']).tail()"
   ]
  },
  {
   "cell_type": "code",
   "execution_count": 6,
   "metadata": {},
   "outputs": [
    {
     "data": {
      "text/html": [
       "<div>\n",
       "<style scoped>\n",
       "    .dataframe tbody tr th:only-of-type {\n",
       "        vertical-align: middle;\n",
       "    }\n",
       "\n",
       "    .dataframe tbody tr th {\n",
       "        vertical-align: top;\n",
       "    }\n",
       "\n",
       "    .dataframe thead th {\n",
       "        text-align: right;\n",
       "    }\n",
       "</style>\n",
       "<table border=\"1\" class=\"dataframe\">\n",
       "  <thead>\n",
       "    <tr style=\"text-align: right;\">\n",
       "      <th></th>\n",
       "      <th>AGE</th>\n",
       "      <th>SEX</th>\n",
       "      <th>BMI</th>\n",
       "      <th>BP</th>\n",
       "      <th>S1</th>\n",
       "      <th>S2</th>\n",
       "      <th>S3</th>\n",
       "      <th>S4</th>\n",
       "      <th>S5</th>\n",
       "      <th>S6</th>\n",
       "      <th>Y</th>\n",
       "    </tr>\n",
       "  </thead>\n",
       "  <tbody>\n",
       "    <tr>\n",
       "      <th>AGE</th>\n",
       "      <td>1.000000</td>\n",
       "      <td>0.173737</td>\n",
       "      <td>0.185085</td>\n",
       "      <td>0.335428</td>\n",
       "      <td>0.260061</td>\n",
       "      <td>0.219243</td>\n",
       "      <td>-0.075181</td>\n",
       "      <td>0.203841</td>\n",
       "      <td>0.270774</td>\n",
       "      <td>0.301731</td>\n",
       "      <td>0.187889</td>\n",
       "    </tr>\n",
       "    <tr>\n",
       "      <th>SEX</th>\n",
       "      <td>0.173737</td>\n",
       "      <td>1.000000</td>\n",
       "      <td>0.088161</td>\n",
       "      <td>0.241010</td>\n",
       "      <td>0.035277</td>\n",
       "      <td>0.142637</td>\n",
       "      <td>-0.379090</td>\n",
       "      <td>0.332115</td>\n",
       "      <td>0.149916</td>\n",
       "      <td>0.208133</td>\n",
       "      <td>0.043062</td>\n",
       "    </tr>\n",
       "    <tr>\n",
       "      <th>BMI</th>\n",
       "      <td>0.185085</td>\n",
       "      <td>0.088161</td>\n",
       "      <td>1.000000</td>\n",
       "      <td>0.395411</td>\n",
       "      <td>0.249777</td>\n",
       "      <td>0.261170</td>\n",
       "      <td>-0.366811</td>\n",
       "      <td>0.413807</td>\n",
       "      <td>0.446157</td>\n",
       "      <td>0.388680</td>\n",
       "      <td>0.586450</td>\n",
       "    </tr>\n",
       "    <tr>\n",
       "      <th>BP</th>\n",
       "      <td>0.335428</td>\n",
       "      <td>0.241010</td>\n",
       "      <td>0.395411</td>\n",
       "      <td>1.000000</td>\n",
       "      <td>0.242464</td>\n",
       "      <td>0.185548</td>\n",
       "      <td>-0.178762</td>\n",
       "      <td>0.257650</td>\n",
       "      <td>0.393480</td>\n",
       "      <td>0.390430</td>\n",
       "      <td>0.441482</td>\n",
       "    </tr>\n",
       "    <tr>\n",
       "      <th>S1</th>\n",
       "      <td>0.260061</td>\n",
       "      <td>0.035277</td>\n",
       "      <td>0.249777</td>\n",
       "      <td>0.242464</td>\n",
       "      <td>1.000000</td>\n",
       "      <td>0.896663</td>\n",
       "      <td>0.051519</td>\n",
       "      <td>0.542207</td>\n",
       "      <td>0.515503</td>\n",
       "      <td>0.325717</td>\n",
       "      <td>0.212022</td>\n",
       "    </tr>\n",
       "    <tr>\n",
       "      <th>S2</th>\n",
       "      <td>0.219243</td>\n",
       "      <td>0.142637</td>\n",
       "      <td>0.261170</td>\n",
       "      <td>0.185548</td>\n",
       "      <td>0.896663</td>\n",
       "      <td>1.000000</td>\n",
       "      <td>-0.196455</td>\n",
       "      <td>0.659817</td>\n",
       "      <td>0.318357</td>\n",
       "      <td>0.290600</td>\n",
       "      <td>0.174054</td>\n",
       "    </tr>\n",
       "    <tr>\n",
       "      <th>S3</th>\n",
       "      <td>-0.075181</td>\n",
       "      <td>-0.379090</td>\n",
       "      <td>-0.366811</td>\n",
       "      <td>-0.178762</td>\n",
       "      <td>0.051519</td>\n",
       "      <td>-0.196455</td>\n",
       "      <td>1.000000</td>\n",
       "      <td>-0.738493</td>\n",
       "      <td>-0.398577</td>\n",
       "      <td>-0.273697</td>\n",
       "      <td>-0.394789</td>\n",
       "    </tr>\n",
       "    <tr>\n",
       "      <th>S4</th>\n",
       "      <td>0.203841</td>\n",
       "      <td>0.332115</td>\n",
       "      <td>0.413807</td>\n",
       "      <td>0.257650</td>\n",
       "      <td>0.542207</td>\n",
       "      <td>0.659817</td>\n",
       "      <td>-0.738493</td>\n",
       "      <td>1.000000</td>\n",
       "      <td>0.617859</td>\n",
       "      <td>0.417212</td>\n",
       "      <td>0.430453</td>\n",
       "    </tr>\n",
       "    <tr>\n",
       "      <th>S5</th>\n",
       "      <td>0.270774</td>\n",
       "      <td>0.149916</td>\n",
       "      <td>0.446157</td>\n",
       "      <td>0.393480</td>\n",
       "      <td>0.515503</td>\n",
       "      <td>0.318357</td>\n",
       "      <td>-0.398577</td>\n",
       "      <td>0.617859</td>\n",
       "      <td>1.000000</td>\n",
       "      <td>0.464669</td>\n",
       "      <td>0.565883</td>\n",
       "    </tr>\n",
       "    <tr>\n",
       "      <th>S6</th>\n",
       "      <td>0.301731</td>\n",
       "      <td>0.208133</td>\n",
       "      <td>0.388680</td>\n",
       "      <td>0.390430</td>\n",
       "      <td>0.325717</td>\n",
       "      <td>0.290600</td>\n",
       "      <td>-0.273697</td>\n",
       "      <td>0.417212</td>\n",
       "      <td>0.464669</td>\n",
       "      <td>1.000000</td>\n",
       "      <td>0.382483</td>\n",
       "    </tr>\n",
       "    <tr>\n",
       "      <th>Y</th>\n",
       "      <td>0.187889</td>\n",
       "      <td>0.043062</td>\n",
       "      <td>0.586450</td>\n",
       "      <td>0.441482</td>\n",
       "      <td>0.212022</td>\n",
       "      <td>0.174054</td>\n",
       "      <td>-0.394789</td>\n",
       "      <td>0.430453</td>\n",
       "      <td>0.565883</td>\n",
       "      <td>0.382483</td>\n",
       "      <td>1.000000</td>\n",
       "    </tr>\n",
       "  </tbody>\n",
       "</table>\n",
       "</div>"
      ],
      "text/plain": [
       "          AGE       SEX       BMI        BP        S1        S2        S3  \\\n",
       "AGE  1.000000  0.173737  0.185085  0.335428  0.260061  0.219243 -0.075181   \n",
       "SEX  0.173737  1.000000  0.088161  0.241010  0.035277  0.142637 -0.379090   \n",
       "BMI  0.185085  0.088161  1.000000  0.395411  0.249777  0.261170 -0.366811   \n",
       "BP   0.335428  0.241010  0.395411  1.000000  0.242464  0.185548 -0.178762   \n",
       "S1   0.260061  0.035277  0.249777  0.242464  1.000000  0.896663  0.051519   \n",
       "S2   0.219243  0.142637  0.261170  0.185548  0.896663  1.000000 -0.196455   \n",
       "S3  -0.075181 -0.379090 -0.366811 -0.178762  0.051519 -0.196455  1.000000   \n",
       "S4   0.203841  0.332115  0.413807  0.257650  0.542207  0.659817 -0.738493   \n",
       "S5   0.270774  0.149916  0.446157  0.393480  0.515503  0.318357 -0.398577   \n",
       "S6   0.301731  0.208133  0.388680  0.390430  0.325717  0.290600 -0.273697   \n",
       "Y    0.187889  0.043062  0.586450  0.441482  0.212022  0.174054 -0.394789   \n",
       "\n",
       "           S4        S5        S6         Y  \n",
       "AGE  0.203841  0.270774  0.301731  0.187889  \n",
       "SEX  0.332115  0.149916  0.208133  0.043062  \n",
       "BMI  0.413807  0.446157  0.388680  0.586450  \n",
       "BP   0.257650  0.393480  0.390430  0.441482  \n",
       "S1   0.542207  0.515503  0.325717  0.212022  \n",
       "S2   0.659817  0.318357  0.290600  0.174054  \n",
       "S3  -0.738493 -0.398577 -0.273697 -0.394789  \n",
       "S4   1.000000  0.617859  0.417212  0.430453  \n",
       "S5   0.617859  1.000000  0.464669  0.565883  \n",
       "S6   0.417212  0.464669  1.000000  0.382483  \n",
       "Y    0.430453  0.565883  0.382483  1.000000  "
      ]
     },
     "execution_count": 6,
     "metadata": {},
     "output_type": "execute_result"
    }
   ],
   "source": [
    "#Examine the Correlation\n",
    "pd.DataFrame(X, columns=['Age', 'Sex', 'BMI', 'BP', 'S1', 'S2', 'S3', 'S4', 'S5', 'S6'])\n",
    "df.corr()"
   ]
  },
  {
   "cell_type": "markdown",
   "metadata": {},
   "source": [
    "# Preparing the Data"
   ]
  },
  {
   "cell_type": "markdown",
   "metadata": {},
   "source": [
    "### Focusing on 2 Features\n",
    "In order to **build the model**, the features **MUST BE NUMERIC**, and every observation must have the **SAME features in the SAME order**. Let's build a model that only focuses on 2 features from the data **BMI** and **BP**"
   ]
  },
  {
   "cell_type": "code",
   "execution_count": 7,
   "metadata": {},
   "outputs": [],
   "source": [
    "#Focus ONLY on BPI and BP\n",
    "features = (2, 3)\n",
    "X = X[:, features]"
   ]
  },
  {
   "cell_type": "markdown",
   "metadata": {},
   "source": [
    "# Splitting the Data"
   ]
  },
  {
   "cell_type": "markdown",
   "metadata": {},
   "source": [
    "### The Main Split"
   ]
  },
  {
   "cell_type": "markdown",
   "metadata": {},
   "source": [
    "In order for us to get the results wer're looking for, we need to **first train the Machine Learning Algorithm**. To do this, we need to **split X into** ***X_train, X_test, y_train, and y_test*** **using the SciKitLearn function** ***train_test_split()***"
   ]
  },
  {
   "cell_type": "markdown",
   "metadata": {},
   "source": [
    "Thankfully, SciKitLearn has a function that randomly shuffles the data and splits it into **training** and **testing** data. This is called the **train_test_split()** function, and by default (unless you manually override the hyperparameters) will split the data with **75% of the rows being used for TRAINING** and **25% of the rows used for TESTING**"
   ]
  },
  {
   "cell_type": "code",
   "execution_count": 8,
   "metadata": {},
   "outputs": [],
   "source": [
    "#Import the train_test_split\n",
    "from sklearn.model_selection import train_test_split\n",
    "\n",
    "#Split the Data\n",
    "X_train, X_test, y_train, y_test = train_test_split(\n",
    "    X, y, test_size = 0.25, random_state = 0)"
   ]
  },
  {
   "cell_type": "markdown",
   "metadata": {},
   "source": [
    "### Checking the Shape\n",
    "As mentioned above, checking the Shape periodically through the process is essential to make sure things are still running smoothly. This is especially important after completing a Split, to make sure that the correct amount of data is in the Training Set and Testing Set."
   ]
  },
  {
   "cell_type": "code",
   "execution_count": 9,
   "metadata": {},
   "outputs": [
    {
     "name": "stdout",
     "output_type": "stream",
     "text": [
      "X_train.shape: (331, 2)\n",
      "y_train.shape: (331,)\n"
     ]
    }
   ],
   "source": [
    "#Examine the Shape of the Training Set\n",
    "print('X_train.shape: {}'.format(X_train.shape))\n",
    "print('y_train.shape: {}'.format(y_train.shape))"
   ]
  },
  {
   "cell_type": "code",
   "execution_count": 10,
   "metadata": {},
   "outputs": [
    {
     "name": "stdout",
     "output_type": "stream",
     "text": [
      "X_test.shape: (111, 2)\n",
      "y_test.shape: (111,)\n"
     ]
    }
   ],
   "source": [
    "#Examine the Shape of the Testing Set\n",
    "print('X_test.shape: {}'.format(X_test.shape))\n",
    "print('y_test.shape: {}'.format(y_test.shape))"
   ]
  },
  {
   "cell_type": "markdown",
   "metadata": {},
   "source": [
    "**Reminder:** The column vector is only \"2\" because we're focusing ONLY on the BMI and BP!"
   ]
  },
  {
   "cell_type": "markdown",
   "metadata": {},
   "source": [
    "### Create a Pandas Dataframe for Plotting\n",
    "Now that the split was successfully completed, we can create the dataframe necessary for plotting the data."
   ]
  },
  {
   "cell_type": "code",
   "execution_count": 11,
   "metadata": {},
   "outputs": [],
   "source": [
    "diabetes_dataframe = pd.DataFrame(X_train, columns = ['BMI', 'BP'])"
   ]
  },
  {
   "cell_type": "markdown",
   "metadata": {},
   "source": [
    "### Plotting the Preliminary Data\n",
    "Let's check out what the results of the split were on a set Scatterplots and Histograms."
   ]
  },
  {
   "cell_type": "code",
   "execution_count": 12,
   "metadata": {},
   "outputs": [
    {
     "data": {
      "text/plain": [
       "array([[<matplotlib.axes._subplots.AxesSubplot object at 0x119b0a970>,\n",
       "        <matplotlib.axes._subplots.AxesSubplot object at 0x119b64130>],\n",
       "       [<matplotlib.axes._subplots.AxesSubplot object at 0x119b8f5b0>,\n",
       "        <matplotlib.axes._subplots.AxesSubplot object at 0x119bbaa30>]],\n",
       "      dtype=object)"
      ]
     },
     "execution_count": 12,
     "metadata": {},
     "output_type": "execute_result"
    },
    {
     "data": {
      "image/png": "[encoded data removed]",
      "text/plain": [
       "<Figure size 360x360 with 4 Axes>"
      ]
     },
     "metadata": {
      "needs_background": "light"
     },
     "output_type": "display_data"
    }
   ],
   "source": [
    "pd.plotting.scatter_matrix(diabetes_dataframe, c = y_train, figsize = (5, 5), marker = 'o', hist_kwds = {'bins':10})"
   ]
  },
  {
   "cell_type": "markdown",
   "metadata": {},
   "source": [
    "From the Histograms, we can tell that the BMI Histogram has a **right skew**, which means that most of the data falls on the *Positive Side* of the peak. On the other side, the BP Histogram has a more normal-looking distribution, but there is still a **slight right skew**. These results are most likely because the **features were pre-processed** before the were imported into our dataframe. \n",
    "\n",
    "From the Scatterplots, there seems to be a **positive correlation** between BMI and BP. There are also a few outliers in these plots, which implies that there most likely was **Standardization Scaling** used to scale the data, since that technique keeps outliers intact."
   ]
  },
  {
   "cell_type": "markdown",
   "metadata": {},
   "source": [
    "# Creating a Predictive Model"
   ]
  },
  {
   "cell_type": "markdown",
   "metadata": {},
   "source": [
    "### Instantiate the Model\n",
    "To do this, we need to use the default parameters by creating instances of the model. Normally, this is seen through Ordinary Least Squares Regression, but we're using Linear Regression for this lab."
   ]
  },
  {
   "cell_type": "code",
   "execution_count": 13,
   "metadata": {},
   "outputs": [],
   "source": [
    "#Instantiate the Model\n",
    "regr = linear_model.LinearRegression()"
   ]
  },
  {
   "cell_type": "markdown",
   "metadata": {},
   "source": [
    "### Train the Model\n",
    "Use the data from the Training Data in the train_test_split() to train this model."
   ]
  },
  {
   "cell_type": "code",
   "execution_count": 14,
   "metadata": {},
   "outputs": [
    {
     "data": {
      "text/plain": [
       "LinearRegression()"
      ]
     },
     "execution_count": 14,
     "metadata": {},
     "output_type": "execute_result"
    }
   ],
   "source": [
    "#Training the Model\n",
    "regr.fit(X_train, y_train)"
   ]
  },
  {
   "cell_type": "markdown",
   "metadata": {},
   "source": [
    "### Print the Coefficients\n",
    "Now for the moment of truth!"
   ]
  },
  {
   "cell_type": "code",
   "execution_count": 15,
   "metadata": {},
   "outputs": [
    {
     "name": "stdout",
     "output_type": "stream",
     "text": [
      "[855.51017633 383.24090075]\n"
     ]
    }
   ],
   "source": [
    "#Print the Coefficients\n",
    "print(regr.coef_)"
   ]
  },
  {
   "cell_type": "markdown",
   "metadata": {},
   "source": [
    "# Model Evaluation: Making Predictions and Scoring the Model"
   ]
  },
  {
   "cell_type": "markdown",
   "metadata": {},
   "source": [
    "### Making Predictions\n",
    "Now that our model is trained and ready to go, we can now use it to make predictions on **new data** that the model hasn't seen before and that we don't know the outcomes for. In order for us to **make a prediction**, the new observation must have the **SAME FEATURES AS THE TRAINING OBSERVATIONS** both in **numbers** and **meaning**"
   ]
  },
  {
   "cell_type": "markdown",
   "metadata": {},
   "source": [
    "To **predict a new y-value base on the data from the Training Set**, we need to input a *normalized list of BMI and BP data*. It doesn't matter what data pair we use, as long as it's normalized. This is another reason why scaling the data during the pre-processing stage is so important!"
   ]
  },
  {
   "cell_type": "code",
   "execution_count": 16,
   "metadata": {},
   "outputs": [
    {
     "name": "stdout",
     "output_type": "stream",
     "text": [
      "X_new Shape: (1, 2)\n"
     ]
    }
   ],
   "source": [
    "#Predicting a new Y-value based on Training Set data...we're going to use data from Patient 437 (n = 437)\n",
    "X_new = np.array([0.019662, 0.059744])\n",
    "\n",
    "#Reshaping the Array so NumPy can use it\n",
    "X_new = np.reshape(X_new, (1, -1))\n",
    "\n",
    "#Check the Results by looking at the Shape of the Array\n",
    "print('X_new Shape: {}'.format(X_new.shape))"
   ]
  },
  {
   "cell_type": "markdown",
   "metadata": {},
   "source": [
    "To make an accurate prediction, we need to call the **predict** method of the **regr** object."
   ]
  },
  {
   "cell_type": "code",
   "execution_count": 17,
   "metadata": {},
   "outputs": [
    {
     "name": "stdout",
     "output_type": "stream",
     "text": [
      "The prediction from the Model is: 193.10\n",
      "The true value from the dataset is: 178.00\n"
     ]
    }
   ],
   "source": [
    "#Make the Prediction\n",
    "prediction = regr.predict(X_new)[0]\n",
    "\n",
    "#Checking the Results of the Predicted Value vs. Actual Value\n",
    "print(\"The prediction from the Model is: {0:0.2f}\".format(prediction))\n",
    "print('The true value from the dataset is: {0:0.2f}'.format(y[437]))"
   ]
  },
  {
   "cell_type": "markdown",
   "metadata": {},
   "source": [
    "**Note:** We use \"(y[**437**])\" because we're checking the data from Patient 437; this will change when the Patient Number changes."
   ]
  },
  {
   "cell_type": "markdown",
   "metadata": {},
   "source": [
    "### Checking the Accuracy"
   ]
  },
  {
   "cell_type": "code",
   "execution_count": 18,
   "metadata": {},
   "outputs": [
    {
     "name": "stdout",
     "output_type": "stream",
     "text": [
      "The model's test set accuracy is 24.62%\n"
     ]
    }
   ],
   "source": [
    "print(\"The model's test set accuracy is {0:0.2f}%\".format(100*regr.score(X_test, y_test)))"
   ]
  },
  {
   "cell_type": "markdown",
   "metadata": {},
   "source": [
    "# The Multivariate Model Equation"
   ]
  },
  {
   "cell_type": "markdown",
   "metadata": {},
   "source": [
    "In order to build a Multivariate Model, we need to get the regression coefficients and the intercept. The coefficients we know from above, but we need to figure out the intercept."
   ]
  },
  {
   "cell_type": "markdown",
   "metadata": {},
   "source": [
    "### Getting the Coefficients and Intercept Data"
   ]
  },
  {
   "cell_type": "code",
   "execution_count": 19,
   "metadata": {},
   "outputs": [
    {
     "name": "stdout",
     "output_type": "stream",
     "text": [
      "The Coefficient of the feature BMI is 855.5101763296332\n",
      "The Coefficient of the feature BP is 383.2409007495853\n",
      "The Intercept has the value of 153.3821238179241\n"
     ]
    }
   ],
   "source": [
    "#Getting the Coefficients and Intercept\n",
    "coef0 = regr.coef_[0]\n",
    "coef1 = regr.coef_[1]\n",
    "intercept = regr.intercept_\n",
    "\n",
    "#Printing the Information\n",
    "print('The Coefficient of the feature BMI is {}'.format(coef0))\n",
    "print('The Coefficient of the feature BP is {}'.format(coef1))\n",
    "print('The Intercept has the value of {}'.format(intercept))"
   ]
  },
  {
   "cell_type": "markdown",
   "metadata": {},
   "source": [
    "### Building the Model"
   ]
  },
  {
   "cell_type": "markdown",
   "metadata": {},
   "source": [
    "From the information above, we know what our Multivariate Model is:\n",
    "### y = 855.51*BMI + 383.24*BP + 153.38\n",
    "where **y** is the quantitative measure of the disease (diabetes) progression one year after the baseline analysis."
   ]
  },
  {
   "cell_type": "markdown",
   "metadata": {},
   "source": [
    "### Using the Model Equation with our Data to Predict the Disease's Progression\n",
    "In order to predict the progression, we'll use the same values from Patient 437..."
   ]
  },
  {
   "cell_type": "code",
   "execution_count": 20,
   "metadata": {},
   "outputs": [
    {
     "name": "stdout",
     "output_type": "stream",
     "text": [
      "Prediction from the model equation is: 193.10\n"
     ]
    }
   ],
   "source": [
    "#Predicting the Progression\n",
    "BMI, BP = 0.019662, 0.059744\n",
    "y = 855.51*BMI + 383.24*BP + 153.38\n",
    "\n",
    "#Printing the Prediction\n",
    "print('Prediction from the model equation is: {0:0.2f}'.format(y))"
   ]
  },
  {
   "cell_type": "markdown",
   "metadata": {},
   "source": [
    "# Creating 3D Plots with MatPlotLib"
   ]
  },
  {
   "cell_type": "markdown",
   "metadata": {},
   "source": [
    "In order for us to get a clear understanding as to how our model did, as well as tell others about it, we will create a 3D graph to convey the results."
   ]
  },
  {
   "cell_type": "markdown",
   "metadata": {},
   "source": [
    "### Getting the Essentials"
   ]
  },
  {
   "cell_type": "code",
   "execution_count": 21,
   "metadata": {},
   "outputs": [],
   "source": [
    "#Import PyPlot\n",
    "import matplotlib.pyplot as plt\n",
    "from mpl_toolkits.mplot3d import Axes3D\n",
    "\n",
    "#Define an Inline Function (using Lambda) with coefficient variables returned from the Regression Analysis\n",
    "coef = regr.coef_\n",
    "intercept = regr.intercept_\n",
    "line = lambda x1, x2: coef[0]*x1 + coef[1]*x2 + intercept"
   ]
  },
  {
   "cell_type": "markdown",
   "metadata": {},
   "source": [
    "### Plotting the Data"
   ]
  },
  {
   "cell_type": "code",
   "execution_count": 22,
   "metadata": {},
   "outputs": [
    {
     "data": {
      "text/plain": [
       "<matplotlib.legend.Legend at 0x119e12e50>"
      ]
     },
     "execution_count": 22,
     "metadata": {},
     "output_type": "execute_result"
    },
    {
     "data": {
      "image/png": "[encoded data removed]",
      "text/plain": [
       "<Figure size 800x500 with 1 Axes>"
      ]
     },
     "metadata": {
      "needs_background": "light"
     },
     "output_type": "display_data"
    }
   ],
   "source": [
    "#Establishing the Figure Size\n",
    "fig = plt.figure(figsize = (8,5), dpi = 100)\n",
    "grid_x1, grid_x2 = np.mgrid[-.1:.1:10j, -.1:.1:10j]\n",
    "\n",
    "#Incorporating the Axes\n",
    "ax = Axes3D(fig)\n",
    "ax = plt.axes(projection='3d')\n",
    "\n",
    "#Establishing Information on the Graph\n",
    "ax.scatter(X_train[:,0], X_train[:,1], y_train, color = 'green', label = 'Training Set')\n",
    "ax.scatter(X_test[:,1], y_test, facecolor = 'red', label = \"Testing Set\")\n",
    "ax.plot_surface(grid_x1, grid_x2, line(grid_x1, grid_x2), alpha = 0.1, color = 'black')\n",
    "\n",
    "#Changing the Viewing Angle\n",
    "ax.view_init(20, 45)\n",
    "\n",
    "#Legend\n",
    "plt.legend (loc = 'upper left')"
   ]
  },
  {
   "cell_type": "markdown",
   "metadata": {},
   "source": [
    "# Experimenting with Different Feature Combinations"
   ]
  },
  {
   "cell_type": "markdown",
   "metadata": {},
   "source": [
    "Because of the model for the combination of BMI and BP yielded a very low accuracy rate, it's important to try out different combinations of features. A different feature combination might produce a model with a higher accuracy. For these test, I choose to experiment with the combinations of **BMI and Serum 5 (S5)**, **BP and Serum 6 (S6)**, and **BMI, Serum 4 (S4), and Serum 5 (S5)** because they yield relatively high correlation scores."
   ]
  },
  {
   "cell_type": "markdown",
   "metadata": {},
   "source": [
    "### BMI and S5 (Serum 5)\n",
    "There were a few similarities and differences when doing a comparison between **BMI and S5 (Serum 5)**. The histogram of S5 follows a normal distribution pattern, but it's not as normal-shaped as BP. The scatterplot pattern of BMI and BP was similar to that of BMI and BP because they both had positive correlations. However, there are stark differences in the models themselves. As stated above, the **model for BMI and BP was \"y = 855.51*BMI* + 383.24*BP* + 153.38\"** while the **model for BMI and S5 was \"y = 735.37*BMI + 615.36*BP + 152.93\"**. Likewise, the accuracies were also very different. The **accuracy for BMI and BP was 24.62%** while the **accuracy for BMI and S5 was 27.59%**, so significantly higher. This translated to a larger \"sheet\" of best fit that included more data points, due to the increase accuracy of the model. Which, ultimately, was because of the increased correlation between the two \n",
    "attributes."
   ]
  },
  {
   "cell_type": "markdown",
   "metadata": {},
   "source": [
    "### BP and S6 (Serum 6)\n",
    "Much like BMI and S5, there were similarities and differences when doing a comparison between **BP and S6**. The histogram for S6 more normally distributed than the others; however, Bin 6 had a **very high value** when compared to the other bins around it. This might be attributed to **potential outliers** in the data. The scatterplot of BP and S6 also had a positive correlation associated with it. Just like above, there were significant differences between the models themselves. As stated before, the **model for BMI and BP was \"y = 855.51*BMI + 383.24*BP + 153.38\"** while the **model for BP and S6 was \"y = 602.22*BP* + 372.0456*S6* + 152.45**. The accuracies of the two models were also very different. The **accuracy for BMI and BP was 24.62%** while the **accuracy for BP and S6 was 21.48%**, so significantly lower. This translated to a much smaller \"sheet\" of best fit that included less data points than the original model, due to the decreased of this model. This is attributed to the slightly lower correlation between the two attributes."
   ]
  },
  {
   "cell_type": "markdown",
   "metadata": {},
   "source": [
    "### BMI, S4 (Serum 4), and S5 (Serum 5)\n",
    "The previous comparisons were with only two attributes being compared. This time around, I wanted to experiment to see what would happen if I were to include a third attribute...and the results were interesting. I chose BMI, S4, and S5 because the correlation values were some of the highest on the comparison table, so I thought that it would produce a high accuracy model. What I ended up getting was significantly higher than the original model, but not by much. The model ended up being **y = 727.18*BMI* + 48.69*S4* + 589.24*S5* + 152.88** with an **accuracy of 27.80%**. When compared to the original model, it performs better. However, when compared to the accuracy of the BMI/S5 (27.59%) **it's not that much better**. My guess as to why this is the case is because of the **inclusion of the S4 attribute**, which had a weaker accuracy score. While it didn't hinder the over accuracy too much, the inclusion of a different attribute might increase the accuracy of the model."
   ]
  },
  {
   "cell_type": "markdown",
   "metadata": {},
   "source": [
    "# Final Thoughts"
   ]
  },
  {
   "cell_type": "markdown",
   "metadata": {},
   "source": [
    "- The model's accuracy with this dataset is **very low, only 24.62%.** One might think that this might be because the data wasn't cleaned or scaled properly; however, I think it was flawed from the beginning because the **correlation values were low.** But, this is real-world data...and as said in the last lab: **real-world data sometimes doesn't play nice**.\n",
    "- The Multi-Variate Linear Regression can work with datasets with much higher dimensions, so working with a large number of inputs in a model is easy. However, the **more attributes makes it MUCH harder to visualize!**\n",
    "- A model with much higher attributes associated with it doesn't necessarily mean that it will produce a better model, as seen with the comparisons between the **BP and S6** and **BMI, S4, and S5** models. **What really matters is the correlation between the attributes in the model.** The greater the correlation, the better chance that the model will have a higher accuracy.\n",
    "- A good \"Sheet of Best Fit\" will cover both the Training Set and Testing Set seen in a 3D graph, **the Sheet of Best Fit is directly correlated to the accuracy of the model, which is related to the correlation of the attributes at the start.**"
   ]
  },
  {
   "cell_type": "code",
   "execution_count": null,
   "metadata": {},
   "outputs": [],
   "source": []
  }
 ],
 "metadata": {
  "kernelspec": {
   "display_name": "Python 3",
   "language": "python",
   "name": "python3"
  },
  "language_info": {
   "codemirror_mode": {
    "name": "ipython",
    "version": 3
   },
   "file_extension": ".py",
   "mimetype": "text/x-python",
   "name": "python",
   "nbconvert_exporter": "python",
   "pygments_lexer": "ipython3",
   "version": "3.8.3"
  }
 },
 "nbformat": 4,
 "nbformat_minor": 4
}
